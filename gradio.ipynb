{
 "cells": [
  {
   "cell_type": "code",
   "execution_count": 1,
   "id": "126069d8",
   "metadata": {},
   "outputs": [],
   "source": [
    "import ollama\n",
    "import gradio as gr"
   ]
  },
  {
   "cell_type": "code",
   "execution_count": 2,
   "id": "04568529",
   "metadata": {},
   "outputs": [],
   "source": [
    "system_meassge=\"You are a helpful assisatnt\""
   ]
  },
  {
   "cell_type": "code",
   "execution_count": 3,
   "id": "35ca64ca",
   "metadata": {},
   "outputs": [],
   "source": [
    "message = [{\"role\":\"system\",\"content\":system_meassge},\n",
    "           {\"role\":\"user\",\"content\":\"Give me details regarding yourself\"}]"
   ]
  },
  {
   "cell_type": "code",
   "execution_count": 4,
   "id": "f97b048a",
   "metadata": {},
   "outputs": [],
   "source": [
    "result = ollama.chat(model=\"llama3.2\",messages=message)"
   ]
  },
  {
   "cell_type": "code",
   "execution_count": 5,
   "id": "7ef4e3e7",
   "metadata": {},
   "outputs": [
    {
     "name": "stdout",
     "output_type": "stream",
     "text": [
      "I'm an artificial intelligence model known as Llama. Llama stands for \"Large Language Model Meta AI.\" \n",
      "\n",
      "Here are some details about myself:\n",
      "\n",
      "**How I was created:** I was developed by Meta, a technology company. My primary function is to process and generate human-like language that's useful for a variety of tasks.\n",
      "\n",
      "**What I can do:** I can be used in a range of applications, from helping with writing and proofreading to providing information and entertainment. I can also be used to help with tasks such as translation, summarization, and even generating text based on a prompt or topic.\n",
      "\n",
      "**How I work:** I'm a type of large language model, which means I've been trained on a massive corpus of text data. This training allows me to learn patterns and relationships in language, which enables me to generate human-like responses to a wide range of questions and prompts.\n",
      "\n",
      "**Limitations:** While I'm designed to be helpful and informative, I'm not perfect. There are certain types of questions or prompts that I may not be able to answer correctly or accurately. I can also make mistakes if the training data I've been exposed to is incomplete or biased.\n",
      "\n",
      "**What I can talk about:** I can discuss a wide range of topics, from science and history to entertainment and culture. I can also engage in conversation, answering questions and providing information on a variety of subjects.\n",
      "\n",
      "I hope that helps! Is there anything specific you'd like to know or discuss?\n"
     ]
    }
   ],
   "source": [
    "print(result.message.content)"
   ]
  },
  {
   "cell_type": "code",
   "execution_count": 7,
   "id": "7160971d",
   "metadata": {},
   "outputs": [],
   "source": [
    "def shout(text):\n",
    "    return text.upper()"
   ]
  },
  {
   "cell_type": "code",
   "execution_count": 9,
   "id": "494641dc",
   "metadata": {},
   "outputs": [
    {
     "name": "stdout",
     "output_type": "stream",
     "text": [
      "* Running on local URL:  http://127.0.0.1:7860\n",
      "\n",
      "To create a public link, set `share=True` in `launch()`.\n"
     ]
    },
    {
     "data": {
      "text/html": [
       "<div><iframe src=\"http://127.0.0.1:7860/\" width=\"100%\" height=\"500\" allow=\"autoplay; camera; microphone; clipboard-read; clipboard-write;\" frameborder=\"0\" allowfullscreen></iframe></div>"
      ],
      "text/plain": [
       "<IPython.core.display.HTML object>"
      ]
     },
     "metadata": {},
     "output_type": "display_data"
    },
    {
     "data": {
      "text/plain": []
     },
     "execution_count": 9,
     "metadata": {},
     "output_type": "execute_result"
    }
   ],
   "source": [
    "view = gr.Interface(fn=shout,inputs=\"textbox\",outputs=\"textbox\")\n",
    "view.launch()"
   ]
  },
  {
   "cell_type": "code",
   "execution_count": 10,
   "id": "7163752e",
   "metadata": {},
   "outputs": [
    {
     "name": "stderr",
     "output_type": "stream",
     "text": [
      "C:\\Users\\Rahul\\AppData\\Roaming\\Python\\Python310\\site-packages\\gradio\\interface.py:415: UserWarning: The `allow_flagging` parameter in `Interface` is deprecated.Use `flagging_mode` instead.\n",
      "  warnings.warn(\n"
     ]
    },
    {
     "name": "stdout",
     "output_type": "stream",
     "text": [
      "* Running on local URL:  http://127.0.0.1:7861\n",
      "\n",
      "To create a public link, set `share=True` in `launch()`.\n"
     ]
    },
    {
     "data": {
      "text/html": [
       "<div><iframe src=\"http://127.0.0.1:7861/\" width=\"100%\" height=\"500\" allow=\"autoplay; camera; microphone; clipboard-read; clipboard-write;\" frameborder=\"0\" allowfullscreen></iframe></div>"
      ],
      "text/plain": [
       "<IPython.core.display.HTML object>"
      ]
     },
     "metadata": {},
     "output_type": "display_data"
    },
    {
     "data": {
      "text/plain": []
     },
     "execution_count": 10,
     "metadata": {},
     "output_type": "execute_result"
    }
   ],
   "source": [
    "view = gr.Interface(fn=shout,inputs=\"textbox\",outputs=\"textbox\",allow_flagging=\"never\")\n",
    "view.launch()"
   ]
  },
  {
   "cell_type": "code",
   "execution_count": 17,
   "id": "0f0be92b",
   "metadata": {},
   "outputs": [],
   "source": [
    "def askQuery(message):\n",
    "    message = [{\"role\":\"user\",\"content\":message}]\n",
    "    result = ollama.chat(model=\"llama3.2\",messages=message,stream=True)\n",
    "    full =\"\"\n",
    "    for chunk in result:\n",
    "        full += chunk.message.content or \"\"\n",
    "        yield full"
   ]
  },
  {
   "cell_type": "code",
   "execution_count": 18,
   "id": "0a7a22e7",
   "metadata": {},
   "outputs": [
    {
     "name": "stderr",
     "output_type": "stream",
     "text": [
      "C:\\Users\\Rahul\\AppData\\Roaming\\Python\\Python310\\site-packages\\gradio\\interface.py:415: UserWarning: The `allow_flagging` parameter in `Interface` is deprecated.Use `flagging_mode` instead.\n",
      "  warnings.warn(\n"
     ]
    },
    {
     "name": "stdout",
     "output_type": "stream",
     "text": [
      "* Running on local URL:  http://127.0.0.1:7867\n",
      "\n",
      "To create a public link, set `share=True` in `launch()`.\n"
     ]
    },
    {
     "data": {
      "text/html": [
       "<div><iframe src=\"http://127.0.0.1:7867/\" width=\"100%\" height=\"500\" allow=\"autoplay; camera; microphone; clipboard-read; clipboard-write;\" frameborder=\"0\" allowfullscreen></iframe></div>"
      ],
      "text/plain": [
       "<IPython.core.display.HTML object>"
      ]
     },
     "metadata": {},
     "output_type": "display_data"
    },
    {
     "data": {
      "text/plain": []
     },
     "execution_count": 18,
     "metadata": {},
     "output_type": "execute_result"
    }
   ],
   "source": [
    "view = gr.Interface(fn=askQuery,inputs=\"textbox\",outputs=gr.Markdown(),allow_flagging=\"never\")\n",
    "view.launch()"
   ]
  },
  {
   "cell_type": "code",
   "execution_count": null,
   "id": "c1d678a6",
   "metadata": {},
   "outputs": [],
   "source": []
  },
  {
   "cell_type": "code",
   "execution_count": null,
   "id": "19d5f8d6",
   "metadata": {},
   "outputs": [],
   "source": []
  },
  {
   "cell_type": "code",
   "execution_count": null,
   "id": "fe8cd043",
   "metadata": {},
   "outputs": [],
   "source": []
  },
  {
   "cell_type": "code",
   "execution_count": null,
   "id": "77687daa",
   "metadata": {},
   "outputs": [],
   "source": []
  },
  {
   "cell_type": "code",
   "execution_count": null,
   "id": "40448f9f",
   "metadata": {},
   "outputs": [],
   "source": []
  }
 ],
 "metadata": {
  "kernelspec": {
   "display_name": "Python 3",
   "language": "python",
   "name": "python3"
  },
  "language_info": {
   "codemirror_mode": {
    "name": "ipython",
    "version": 3
   },
   "file_extension": ".py",
   "mimetype": "text/x-python",
   "name": "python",
   "nbconvert_exporter": "python",
   "pygments_lexer": "ipython3",
   "version": "3.10.11"
  }
 },
 "nbformat": 4,
 "nbformat_minor": 5
}
