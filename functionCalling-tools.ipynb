{
 "cells": [
  {
   "cell_type": "code",
   "execution_count": 2,
   "id": "e6f29035",
   "metadata": {},
   "outputs": [],
   "source": [
    "import ollama\n",
    "import gradio as gr\n",
    "import json"
   ]
  },
  {
   "cell_type": "code",
   "execution_count": 3,
   "id": "d63bdfb7",
   "metadata": {},
   "outputs": [],
   "source": [
    "# building an airline assistant"
   ]
  },
  {
   "cell_type": "code",
   "execution_count": 4,
   "id": "eb472b8a",
   "metadata": {},
   "outputs": [
    {
     "data": {
      "text/plain": [
       "'Tools are incredibly powerful feature provided , with tool we can write a function\\n and llm call that function as part of its response'"
      ]
     },
     "execution_count": 4,
     "metadata": {},
     "output_type": "execute_result"
    }
   ],
   "source": [
    "\"\"\"Tools are incredibly powerful feature provided , with tool we can write a function\n",
    " and llm call that function as part of its response\"\"\""
   ]
  },
  {
   "cell_type": "code",
   "execution_count": 38,
   "id": "0d6111b1",
   "metadata": {},
   "outputs": [],
   "source": [
    "def get_ticket_price(city):\n",
    "    tickets_price={\n",
    "        \"dehradun\":\"Rs 5000\",\n",
    "        \"mathura\" : \"Rs 6000\",\n",
    "        \"tokyo\" :\"Rs 60000\"\n",
    "    }\n",
    "    city = city.lower()\n",
    "    return tickets_price.get(city,\"Unknown\")"
   ]
  },
  {
   "cell_type": "code",
   "execution_count": 39,
   "id": "1e9e8414",
   "metadata": {},
   "outputs": [],
   "source": [
    "#there is away that is reqired to describe function"
   ]
  },
  {
   "cell_type": "code",
   "execution_count": 40,
   "id": "222ecb8d",
   "metadata": {},
   "outputs": [],
   "source": [
    "price_function = {\n",
    "    \"name\":\"get_ticket_price\",\n",
    "    \"description\":\"get the price of a ticket to destination city.\",\n",
    "    \"parameters\":{\n",
    "        \"type\":\"object\",\n",
    "        \"properties\":{\n",
    "            \"destination_city\":{\n",
    "                \"type\":\"string\",\n",
    "                \"description\":\"the city that the customer wants to travel to\",\n",
    "            },\n",
    "        },\n",
    "        \"required\":['city'],\n",
    "        \"additionalProperties\":False\n",
    "    }\n",
    "}"
   ]
  },
  {
   "cell_type": "code",
   "execution_count": 41,
   "id": "4ddc6799",
   "metadata": {},
   "outputs": [],
   "source": [
    "tools = [{\"type\":\"function\",\"function\":price_function}]"
   ]
  },
  {
   "cell_type": "code",
   "execution_count": 43,
   "id": "3ce70fb6",
   "metadata": {},
   "outputs": [],
   "source": [
    "def chat(message):\n",
    "    messages = [{\"role\":\"system\",\"content\":\"Your are a helpful assistant for flightAI company\"}]\n",
    "    messages.append({\"role\":\"user\",\"content\":message})    \n",
    "    response = ollama.chat(model = \"llama3.2\",messages=messages,tools=[price_function])\n",
    "    return response\n",
    "   "
   ]
  },
  {
   "cell_type": "code",
   "execution_count": 63,
   "id": "e271171d",
   "metadata": {},
   "outputs": [
    {
     "name": "stdout",
     "output_type": "stream",
     "text": [
      "function=Function(name='get_ticket_price', arguments={'origin': 'Mathura'})\n",
      "{'origin': 'Mathura'}\n",
      "Rs 6000\n"
     ]
    }
   ],
   "source": [
    "response = chat(\"What's the ticket price of mathura?\")\n",
    "message = response['message']\n",
    "if 'tool_calls' in message:\n",
    "    for tool in message.tool_calls:\n",
    "        print(tool)\n",
    "        if tool['function']['name'] == 'get_ticket_price':\n",
    "            args = tool['function']['arguments']\n",
    "            print(args)\n",
    "            city = list(args.values())[0]\n",
    "            result = get_ticket_price(city)\n",
    "            print(result)\n",
    "else:\n",
    "    print(message.content)"
   ]
  },
  {
   "cell_type": "code",
   "execution_count": null,
   "id": "de35447c",
   "metadata": {},
   "outputs": [],
   "source": []
  },
  {
   "cell_type": "code",
   "execution_count": null,
   "id": "ea6c5728",
   "metadata": {},
   "outputs": [],
   "source": []
  },
  {
   "cell_type": "code",
   "execution_count": null,
   "id": "0de44dad",
   "metadata": {},
   "outputs": [],
   "source": []
  }
 ],
 "metadata": {
  "kernelspec": {
   "display_name": "Python 3",
   "language": "python",
   "name": "python3"
  },
  "language_info": {
   "codemirror_mode": {
    "name": "ipython",
    "version": 3
   },
   "file_extension": ".py",
   "mimetype": "text/x-python",
   "name": "python",
   "nbconvert_exporter": "python",
   "pygments_lexer": "ipython3",
   "version": "3.10.11"
  }
 },
 "nbformat": 4,
 "nbformat_minor": 5
}
